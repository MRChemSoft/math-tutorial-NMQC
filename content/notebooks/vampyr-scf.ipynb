{
 "cells": [
  {
   "cell_type": "markdown",
   "id": "a189bcbc",
   "metadata": {},
   "source": [
    "## V2.1: Hydrogen atom\n",
    "\n",
    "In order to solve the one-electron Schrödinger equation in MWs we reformulate them in an integral form [1].\n",
    "\n",
    "$$\n",
    " \\phi = -2\\hat{G}_{\\mu}\\hat{V}\\phi\n",
    "$$\n",
    "\n",
    "Where $\\hat{V}$ is the potential acting on the system, $\\phi$ is the wavefunction, $\\hat{G}$ is the Helmholtz integral operator, where its kernel is defined as $G_\\mu(r - r') = \\frac{\\exp(-\\mu |r - r'|)}{4\\pi |r - r'|}$\n",
    "and $\\mu$ is a parameter defined above through the energy."
   ]
  },
  {
   "cell_type": "markdown",
   "id": "8fc25835",
   "metadata": {},
   "source": [
    "# V2: SCF optimization with VAMPyR"
   ]
  },
  {
   "cell_type": "markdown",
   "id": "a827f958",
   "metadata": {},
   "source": [
    "The Helmholtz operator is already implemented in vampyr, therefore the only things you need are the integral KS equation and the definition of $\\mu$ \n",
    "\n",
    "$$\n",
    "     \\mu = \\sqrt{-2E}\n",
    "$$\n",
    "\n",
    "The way you initialize the Helmholtz operator is as follows\n",
    "```\n",
    "H = vp.HelmholtzOperator( mra, exp=mu, prec=eps )\n",
    "```\n",
    "where `mu` is the $\\mu$ is the parameter defined above, mra you have seen before, and `eps` is the desired threshold precision. This operator is applied the same way you applied the vp.ScalingProjector earlier."
   ]
  },
  {
   "cell_type": "markdown",
   "id": "57925b12-0138-45a3-82fc-e62f377c955c",
   "metadata": {},
   "source": [
    "In this exercise you will be solving the KS equation iteratively for a simple system, the Hydrogen atom. This means that you only have the nuclear potential to take into account for the potential term in the KS equation.\n",
    "\n",
    "$$V_{nuc}(\\mathbf{r}) = -\\frac{1}{|\\mathbf{r}|}$$\n",
    "\n",
    "We will also be working with a single orbital, of which the initial guess is\n",
    "\n",
    "$$\\phi_0(\\mathbf{r}) = e^{-|\\mathbf{r}|^2}$$\n",
    "\n",
    "where \n",
    "$$|\\mathbf{r}| = \\sqrt{x^2 + y^2 + z^2}$$\n"
   ]
  },
  {
   "cell_type": "markdown",
   "id": "c573b50b",
   "metadata": {},
   "source": [
    "The orbital update is defined as follows\n",
    "\\begin{align}\n",
    "    \\Delta\\tilde{\\phi}^n &= -2\\hat{G}[V_{nuc}\\phi^n] - \\phi^n \\\\\n",
    "    \\Delta\\tilde{\\phi}^n &= \\tilde{\\phi}^{n+1} - \\phi^n\n",
    "\\end{align}\n",
    "where we use \\~ to denote a function that is **not** normalized, and $n$ is the iteration index."
   ]
  },
  {
   "cell_type": "markdown",
   "id": "05e8c43b",
   "metadata": {},
   "source": [
    "#### Implementation exercise:\n",
    "\n",
    "1. Make a nuclear potential as a python function `f_nuc(r)`\n",
    "2. Make an initial guess for the orbital as a python function `f_phi(r)` (hint use `np.exp` to get an exponetial function)\n",
    "3. Create a Helmholtz operator $G_\\mu$ with $\\mu$ as shown above, use the exact value of $E = -0.5 a.u.$ for a hydrogen atom\n",
    "4. Project both nuclear potential ($V$) and orbital ($\\phi_n$) to the MW basis using a `vp.ScalingProjector` with precision $\\epsilon=1.0e-3$\n",
    "5. Compute new orbital through application of the Helmholtz operator\n",
    "6. Compute the size of the orbital update $||\\tilde{\\phi}^{n+1} - \\phi^n||$\n",
    "7. Normalize the orbital $\\phi^{n+1} = \\tilde{\\phi}^{n+1}/||\\tilde{\\phi}^{n+1}||$\n",
    "8. Update orbital $\\phi^{n+1} \\rightarrow \\phi^{n}$ for next iteration\n",
    "9. Repeat steps 5-8 until your wavefunction has converged\n",
    "\n",
    "The convergence criterion is the norm of $\\Delta \\phi^n$, but you should start by looping a set amount of times before trying the threshold."
   ]
  },
  {
   "cell_type": "code",
   "execution_count": null,
   "id": "d08504dd-db3b-4ffb-b718-c9f132759376",
   "metadata": {
    "tags": []
   },
   "outputs": [],
   "source": [
    "from vampyr import vampyr3d as vp\n",
    "import numpy as np\n",
    "import matplotlib.pyplot as plt\n",
    "\n",
    "r_x = np.linspace(-0.99, 0.99, 1000) # create an evenly spaced set of points between -0.99 and 0.99\n",
    "r_y = np.zeros(1000)\n",
    "r_z = np.zeros(1000)\n",
    "r = [r_x, r_y, r_z]\n",
    "\n",
    "# Analytic nuclear potential\n",
    "def f_nuc(r):\n",
    "    # TODO: implement the nuclear potential\n",
    "    return\n",
    "\n",
    "# Analytic guess for solution\n",
    "def f_phi(r):\n",
    "    # TODO: implement the initial guess for the orbital\n",
    "    return\n",
    "\n",
    "# Prepare Helmholtz operator\n",
    "E = -0.5\n",
    "mu = np.sqrt(-2*E)\n",
    "G_mu =   # TODO: Construct BSH operator from mu)\n",
    "\n",
    "V =      # TODO: Project nuclear potential V from f_nuc\n",
    "phi_n =  # TODO: Project starting guess phi_n from f_phi\n",
    "phi_n.normalize()\n",
    "\n",
    "# Optimization loop\n",
    "thrs = 1.0e-3\n",
    "update = 1.0\n",
    "i = 0\n",
    "while (i < 3): # switch to (update > thrs) later\n",
    "    # TODO:\n",
    "    # Compute product of potential V and wavefunction phi_n\n",
    "    # Apply Helmholtz operator to obtain phi_np1\n",
    "    # Compute norm = ||phi^{n+1}||\n",
    "    # Compute update = ||phi^{n+1} - phi^{n}||\n",
    "   \n",
    "    # this will plot the wavefunction at each iteration\n",
    "    phi_n_plt = [phi_n([x, 0.0, 0.0]) for x in r_x]\n",
    "    plt.plot(r_x, phi_n_plt) \n",
    "    \n",
    "    # this will print some info, you need to compute in the loop:\n",
    "    print(\"iteration: {}    Norm: {}   Update: {}\".format(i, norm, update))\n",
    "    i += 1\n",
    "\n",
    "plt.show()"
   ]
  },
  {
   "cell_type": "markdown",
   "id": "b9ccfb99",
   "metadata": {},
   "source": [
    "## V2.2 Extension to Helium"
   ]
  },
  {
   "cell_type": "markdown",
   "id": "f1f01f65",
   "metadata": {},
   "source": [
    "A few things change when you go from Hydrogen to Helium:\n",
    "1. The energy is no longer known exactly, and thus will have to be computed from the wavefunction\n",
    "2. The Helmholtz operator which depends on the energy through $\\mu = \\sqrt{-2E}$ needs to be updated in every iteration\n",
    "3. The potential operator $V$ depends on the wavefunction and must be updated in every iteration"
   ]
  },
  {
   "cell_type": "markdown",
   "id": "c922d060",
   "metadata": {},
   "source": [
    "In this example we will use the Hartree-Fock model, which for a single-orbital system like Helium, reduces to the following potential operator:\n",
    "\\begin{align}\n",
    "  \\hat{V} &= \\hat{V}_{nuc} + 2\\hat{J} - \\hat{K}\\\\\n",
    "          &= \\hat{V}_{nuc} + \\hat{J}\n",
    "\\end{align}\n",
    "since $\\hat{K} = \\hat{J}$ for a doubly occupied single orbital."
   ]
  },
  {
   "cell_type": "markdown",
   "id": "c8ed018c",
   "metadata": {},
   "source": [
    "The Coulomb potential $\\hat{J}$ can be computed by application of the Poisson operator $P$:\n",
    "\\begin{equation}\n",
    "  \\hat{J}(r) = P\\left[4\\pi\\rho\\right]\n",
    "\\end{equation}\n",
    "Where $\\rho$ is the square of the orbital\n",
    "\\begin{equation}\n",
    "  \\rho = \\phi*\\phi\n",
    "\\end{equation}"
   ]
  },
  {
   "cell_type": "markdown",
   "id": "a2343a60",
   "metadata": {},
   "source": [
    "#### Pen and paper exercise:\n",
    "\n",
    "Use the fact that\n",
    "\\begin{equation}\n",
    "  \\tilde{\\phi}^{n+1} = -\\Big[\\hat{T} - E^n\\Big]^{-1} V^n\\phi^n \\end{equation}\n",
    "to show that\n",
    "\\begin{equation}\n",
    "  E^{n+1} = \\frac{\\langle\\tilde{\\phi}^{n+1}|\\hat{T} +\n",
    "            \\hat{V}^{n+1}|\\tilde{\\phi}^{n+1}\\rangle}\n",
    "            {||\\tilde{\\phi}^{n+1}||^2}\n",
    "\\end{equation}\n",
    "can be written as a pure update $dE^n$ involving only the potentials $\\hat{V}^{n+1}$, $\\hat{V}^n$ as well as the orbitals $\\tilde{\\phi}^{n+1}$ and $\\phi^n$\n",
    "\\begin{equation}\n",
    "  E^{n+1} = E^{n} + dE^n\n",
    "\\end{equation}\n"
   ]
  },
  {
   "cell_type": "markdown",
   "id": "afe11855",
   "metadata": {},
   "source": [
    "#### Implementation exercise:\n",
    "1. Make a nuclear potential function `f_nuc(r)` for the Helium atom\n",
    "2. Make an initial guess for the orbital as a python function `f_phi(r)` (hint use `np.exp` to get an exponetial function)\n",
    "3. Project both nuclear potential ($V$) and orbital ($\\phi_n$) to the MW basis using a `vp.ScalingProjector` with precision $\\epsilon=1.0e-3$\n",
    "4. Create a Helmholtz operator $G^n$ with $\\mu^n$ using the current energy $E^n$\n",
    "5. Compute total potential $\\hat{V^n} = \\hat{V}_{nuc} + \\hat{J^n}$, where the Coulomb potential is computed using the `vp.PoissonOperator` on the current squared orbital $\\rho^n = ||\\phi^n||^2$\n",
    "6. Compute new orbital through application of the Helmholtz operator on $\\phi^{n+1} = -2\\hat{G}^n\\hat{V}^n\\phi^n$\n",
    "7. Compute the size of the orbital update $||\\tilde{\\phi}^{n+1} - \\phi^n||$\n",
    "8. Normalize the orbital $\\phi^{n+1} = \\tilde{\\phi}^{n+1}/||\\tilde{\\phi}^{n+1}||$\n",
    "9. Update orbital $\\phi^{n+1} \\rightarrow \\phi^{n}$ for next iteration\n",
    "10. Repeat steps 4-9 until your wavefunction has converged\n",
    "\n",
    "The convergence criterion is the norm of $\\Delta \\phi^n$, but you should start by looping a set amount of times before trying the threshold."
   ]
  },
  {
   "cell_type": "code",
   "execution_count": null,
   "id": "9333abdc",
   "metadata": {},
   "outputs": [],
   "source": [
    "from vampyr import vampyr3d as vp\n",
    "import numpy as np\n",
    "import matplotlib.pyplot as plt\n",
    "\n",
    "r_x = np.linspace(-0.99, 0.99, 1000) # create an evenly spaced set of points between -0.99 and 0.99\n",
    "r_y = np.zeros(1000)\n",
    "r_z = np.zeros(1000)\n",
    "r = [r_x, r_y, r_z]\n",
    "\n",
    "# Analytic nuclear potential Helium\n",
    "def f_nuc(r):\n",
    "    #implement the nuclear potential\n",
    "    return\n",
    "\n",
    "# Analytic guess for solution (same as for Hydrogen)\n",
    "def f_phi(r):\n",
    "    # implement the initial guess for the orbital\n",
    "    return\n",
    "\n",
    "\n",
    "# TODO:\n",
    "# Project nuclear potential V_nuc from f_nuc\n",
    "# Project starting guess phi_n from f_phi\n",
    "# Set a starting guess E_n for the energy\n",
    "\n",
    "\n",
    "# Optimization loop\n",
    "thrs = 1.0e-3\n",
    "update = 1.0\n",
    "i = 0\n",
    "while (i < 3): # switch to (update > thrs) later\n",
    "   \n",
    "    # Prepare Helmholtz operator from current energy\n",
    "    mu_n = np.sqrt(-2*E_n)\n",
    "    G_n = # TODO: Construct BSH operator from mu_n)\n",
    "    \n",
    "    # TODO:\n",
    "    # Compute rho\n",
    "    # Initialize vp.PoissonOperator and compute J\n",
    "    # Compute total potential V = V_nuc + J\n",
    "    # Iterate Helmholtz operator to get new orbital phi^{n+1}\n",
    "    \n",
    "    dE_n = # TODO: insert energy expression from above\n",
    "\n",
    "    # Prepare for next iteration\n",
    "    E_n += dE_n\n",
    "    phi_n += dPhi_n\n",
    "    \n",
    "    # This will plot the wavefunction at each iteration\n",
    "    phi_n_plt = [phi_n([x, 0.0, 0.0]) for x in r_x]\n",
    "    plt.plot(r_x, phi_n_plt) \n",
    "    \n",
    "    # this will print some info, you need to compute in the loop:\n",
    "    # norm = ||phi^{n+1}||\n",
    "    # update = ||phi^{n+1} - phi^{n}||\n",
    "    print(\"iteration: {}  Energy: {}    Norm: {}   Update: {}\".format(i, E_n, norm, update))\n",
    "    i += 1\n",
    "\n",
    "   \n",
    "plt.show()"
   ]
  },
  {
   "cell_type": "markdown",
   "id": "3e62f2df",
   "metadata": {},
   "source": [
    "You should expect the orbital energy to converge towards\n",
    "$E_n \\approx -0.918$."
   ]
  },
  {
   "cell_type": "markdown",
   "id": "a40be9ff",
   "metadata": {},
   "source": [
    "#### Bonus exercise:\n",
    "The total energy can be computed after convergence as\n",
    "$E_{tot} = 2E_n - \\langle\\rho|J\\rangle$, should be around $E_{tot} \\approx -2.86$."
   ]
  },
  {
   "cell_type": "markdown",
   "id": "29843b6b-d8ab-433b-9fab-e7d34c193922",
   "metadata": {},
   "source": [
    "\n",
    "##  Sources\n",
    "\n",
    "\n",
    "[1] Stig Rune Jensen, Santanu Saha, José A. Flores-Livas, William Huhn, Volker Blum, Stefan Goedecker, and Luca Frediani The Elephant in the Room of Density Functional Theory Calculations. The Journal of Physical Chemistry Letters 2017 8 (7), 1449-1457\n",
    "DOI: 10.1021/acs.jpclett.7b00255\n"
   ]
  },
  {
   "cell_type": "code",
   "execution_count": null,
   "id": "fefb02fe-ef02-442e-afa4-d5cbff7095b9",
   "metadata": {},
   "outputs": [],
   "source": []
  }
 ],
 "metadata": {
  "kernelspec": {
   "display_name": "Python 3 (ipykernel)",
   "language": "python",
   "name": "python3"
  },
  "language_info": {
   "codemirror_mode": {
    "name": "ipython",
    "version": 3
   },
   "file_extension": ".py",
   "mimetype": "text/x-python",
   "name": "python",
   "nbconvert_exporter": "python",
   "pygments_lexer": "ipython3",
   "version": "3.9.13"
  }
 },
 "nbformat": 4,
 "nbformat_minor": 5
}
