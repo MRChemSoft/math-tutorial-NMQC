{
 "cells": [
  {
   "cell_type": "markdown",
   "id": "d004dce8",
   "metadata": {},
   "source": [
    "## Background"
   ]
  },
  {
   "cell_type": "markdown",
   "id": "cecedc9b",
   "metadata": {},
   "source": [
    "* The Poisson and BSH kernels are singular, 6-dimensional integral kernels that cannot be projected directly into the MRA representation\n",
    "* A low-rank representation is a sum of outer products of low-dimensional objects -> sum of Gaussians\n",
    "* Objective is to represent the Poisson and BSH kernels as sum of Gaussians with guaranteed precision\n",
    "* Use the following integral identity\n",
    "\n",
    "\n",
    "$$\n",
    "\\frac{e^{-\\mu r}}{r} = C_\\alpha \\int_{-\\infty}^\\infty e^{-r^2e^{2s}} e ^{-\\frac{1}{4} \\mu^2 e^{-2s}+s}\\approx\\sum_{t=1}^M \\alpha_t e^{-\\beta_t r^2}\n",
    "$$\n",
    "where we discretize the integral using the trapezoidal rule. The quanitites in the sum are\n",
    "\\begin{align}\n",
    "    \\alpha_t&=h C_\\alpha e^{-\\frac{\\mu^2}{4} e^{-2s_t} + s_t}\\\\\n",
    "    \\beta_t &= e^{2s_t}\\\\\n",
    "    C_{\\alpha}&=\\frac{1}{2\\pi^{3/2}}\\\\\n",
    "    h&=(hi-lo)/M\\\\\n",
    "    s_t&=A+th\n",
    "\\end{align}\n",
    "$r_\\text{max}$ and $r_\\text{min}$ are the upper and lower limits of the representation, $h$ is the step size"
   ]
  },
  {
   "cell_type": "markdown",
   "id": "7b69a7ec",
   "metadata": {},
   "source": [
    "## Exercise: Plot the integrand of the identity representing the Poisson kernel ($\\mu=0$) for r=0.01, r=1, r=100. Use a logarithmic plot"
   ]
  },
  {
   "cell_type": "code",
   "execution_count": null,
   "id": "62c31200",
   "metadata": {},
   "outputs": [],
   "source": [
    "def kernel(r,s):\n",
    "    val=1 # fill in the equation\n",
    "    return val\n",
    "\n",
    "s_array = np.linspace(-10.0,13.0,101)\n",
    "kernel_array_001=kernel(0.01,s_array)\n",
    "plt.xscale(\"linear\")\n",
    "plt.yscale(\"log\")\n",
    "plt.ylim(1.e-10, 1.e5)\n",
    "plt.plot(s_array,kernel_array_001)\n"
   ]
  },
  {
   "cell_type": "code",
   "execution_count": null,
   "id": "0871020c",
   "metadata": {},
   "outputs": [],
   "source": [
    "import numpy as np\n",
    "import matplotlib.pyplot as plt\n",
    "\n",
    "def compute_expansion(s,stepsize):\n",
    "    coeff=stepsize*2/np.sqrt(np.pi)*np.exp(s)\n",
    "    exponent=np.exp(2*s)\n",
    "    return coeff,exponent\n",
    "\n",
    "\n",
    "def fill_separated_expansion(r_min,r_max,prec):\n",
    "\n",
    "    # compute left and right interval boundaries     \n",
    "    t_min=np.log(prec/r_max)-1\n",
    "    t_max=0.5*np.log(20/(r_min*r_min))\n",
    "    print(\"integration boundaries\",t_min,t_max)\n",
    "\n",
    "    # compute step size (semi-heuristically)\n",
    "    h = 1 / (0.2 -  0.47 * np.log10(prec))\n",
    "    \n",
    "    # the number of terms in the sum\n",
    "    n_exp = int(np.ceil((t_max - t_min) / h) + 1)\n",
    "    \n",
    "    # ab is coefficient and exponent\n",
    "    ab = np.zeros(shape=(2,n_exp))\n",
    "    for i in range(n_exp):\n",
    "        t = t_min + h * i\n",
    "        ab[0][i], ab[1][i] = compute_expansion(t,h)\n",
    "\n",
    "    print(\"number of terms in the expansion:\", n_exp)\n",
    "    return ab\n",
    "\n",
    "# reconstruct the poisson/BSH kernels from the sum\n",
    "def poisson_separated(r,ab):\n",
    "    val = 0\n",
    "    for i in range(len(ab[0])):\n",
    "        alpha = ab[0][i]\n",
    "        beta = ab[1][i]\n",
    "        val += alpha * np.exp(-beta * r**2)\n",
    "    return val\n",
    "\n",
    "# reconstruct the poisson/BSH kernels from the sum\n",
    "def poisson_exact(r):\n",
    "    return 1/r\n",
    "\n",
    "r_min = 1.0e-5\n",
    "r_max = 5\n",
    "prec = 1.0e-4\n",
    "ab = fill_separated_expansion(r_min,r_max,prec)"
   ]
  },
  {
   "cell_type": "code",
   "execution_count": null,
   "id": "d90a4203",
   "metadata": {},
   "outputs": [],
   "source": [
    "# Show 1/r behavior of the separated representation\n",
    "linear_x_array = np.linspace(r_min,r_max,1001)\n",
    "sep_array = poisson_separated(linear_x_array, ab)\n",
    "exact_array = poisson_exact(linear_x_array)\n",
    "plt.xscale(\"linear\")\n",
    "plt.yscale(\"linear\")\n",
    "plt.xlim(r_min,r_max)\n",
    "plt.ylim(r_min,r_max)\n",
    "plt.plot(linear_x_array,sep_array)\n",
    "plt.plot(linear_x_array,exact_array)\n",
    "plt.show()\n",
    "\n",
    "# Show relative error of the separated representation\n",
    "log_x_array = np.arange(np.log(r_min),np.log(r_max),(np.log(r_max)-np.log(r_min))/40000)\n",
    "x_array = np.exp(log_x_array)\n",
    "sep_array = poisson_separated(x_array, ab)\n",
    "dif_array = 1 - separated_func(x_array, ab) * (x_array)\n",
    "\n",
    "plt.xscale(\"log\")\n",
    "plt.yscale(\"log\")\n",
    "plt.title(\"relative error of the separated representation\")\n",
    "plt.xlim(r_min,r_max)\n",
    "plt.plot(x_array,dif_array)\n"
   ]
  },
  {
   "cell_type": "markdown",
   "id": "0c00f476",
   "metadata": {},
   "source": [
    "## Exercise: Repeat the construction and plotting of the Poisson kernel for different precisions prec. Compare the number of terms and the faithfulness of the representation."
   ]
  },
  {
   "cell_type": "code",
   "execution_count": null,
   "id": "9079a1c6",
   "metadata": {},
   "outputs": [],
   "source": []
  }
 ],
 "metadata": {
  "kernelspec": {
   "display_name": "Python 3 (ipykernel)",
   "language": "python",
   "name": "python3"
  },
  "language_info": {
   "codemirror_mode": {
    "name": "ipython",
    "version": 3
   },
   "file_extension": ".py",
   "mimetype": "text/x-python",
   "name": "python",
   "nbconvert_exporter": "python",
   "pygments_lexer": "ipython3",
   "version": "3.10.11"
  }
 },
 "nbformat": 4,
 "nbformat_minor": 5
}
