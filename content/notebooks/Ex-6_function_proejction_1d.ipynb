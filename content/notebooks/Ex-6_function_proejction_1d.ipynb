{
 "cells": [
  {
   "cell_type": "markdown",
   "id": "d93aa6cd-9664-4605-ae53-7fd1c95d223e",
   "metadata": {},
   "source": [
    "# Function projection in a MW basis\n",
    "\n",
    "There are two equivalent representations of a function using multiwavets: the *compressed* representation and the *reconstructed* representation. The fisrt one employs the scaling functions at the coarsest scale $N_0$ (defined by the domain of the problem) and the wavelet functions at all successive scales $n = N_0, \\ldots N_{max}$. The second one employs the scaling functions at scale $N_{max}+1$\n",
    "\n",
    "Compressed representation:\n",
    "\n",
    "$$f(x) \\simeq \\sum_i s^{N_0}_i \\phi^0_i(x) + \\sum_{n=N_{min}}^{N_{max}} \\sum_l \\sum_i d^n_{il} \\psi^n_{il}(x)$$\n",
    "\n",
    "Reconstructed representation:\n",
    "\n",
    "$$f(x) \\simeq \\sum_l \\sum_i s^{N_{max}+1}_{il} \\phi^n_{il}(x)$$\n",
    "\n",
    "The scaling and wavelet coefficients are formally obtained by projection:\n",
    "\n",
    "$$s^n_{il} = \\left\\langle f(x)|\\phi^n_{il}(x) \\right\\rangle$$\n",
    "$$d^n_{il} = \\left\\langle f(x)|\\psi^n_{il}(x) \\right\\rangle$$\n",
    "\n",
    "Some practical considerations:\n",
    "- The scaling coefficients $s$ are obtained by a simple quadrature scheme, often using the natural quadrature points ($x_\\mu$) and weights ($\\omega_\\mu$) of the chosen polynomial basis\n",
    "  * $s^n_{il} \\approx \\sum_\\mu w_\\mu \\phi^n_{il}(x) f(x_\\mu)$\n",
    "  * If computed in this manner, the coefficients will only be accurate if the function $f(x)$ is sufficiently smooth in that box.  Indeed, if the function $f(x)$ has fine-scale structure that falls between the numerical quadrature points, the computed values can be completely wrong.\n",
    "  * Thus, adaptive refinement needs to be performed carefully and with the awareness that computationally viable approaches are just heuristics that can sometimes fail.\n",
    "- The wavelet coefficients $d$ are obtained by computing the scaling coeffients at the next finest scale and then employing the two-scale relationship.  Doing this recursively up the tree performs the wavelet transform.\n",
    "- The compressed representation shows how the scaling coefficients are used only at the coarsest scale whereas the wavelet coefficients are used at all subsequent scales\n",
    "- The sum over the translation indices $l$ includes all nodes present at the given scale. In an *adaptive* representation the tree structure is locally terminated based on precision requirements\n",
    "- The reconstructed representation (here shown for a *uniform* grid) is performed at scale $N_{max}+1$. \n",
    "- The compressed and reconstructed representations have the same number of coefficients.\n",
    "\n"
   ]
  },
  {
   "cell_type": "markdown",
   "id": "957c9dab-60ed-454b-a34a-f4ab39bf0b16",
   "metadata": {},
   "source": [
    "In this exercise you will:\n",
    "- project a function of your choice using a fixed and an adaptive projection\n",
    "- inspect the tree structures obtained with each projection. What is the difference in the number of nodes?\n",
    "- check the precision achieved with the different projections. Which one is most precise?"
   ]
  },
  {
   "cell_type": "markdown",
   "id": "1fe17cbb-d00f-4aba-a572-2c4b4f1244a6",
   "metadata": {},
   "source": [
    "## Part 1: set up\n",
    "\n",
    "After importing the relevant packages (essentially the 1d routines of `VAMPyR`, `numpy` and `matplotlib` you need to create an MRA object, specifying the working interval and the order of the polynomial.\n",
    "\n",
    "Thereafter you will create two projectors: a precision-based one and a uniform scale one.\n",
    "\n",
    "Then you can define a function of choice which you will be using to experiment with precision.\n",
    "\n",
    "Finally you will use the projectors to obtain the corresponding tree structures."
   ]
  },
  {
   "cell_type": "code",
   "execution_count": null,
   "id": "0a16b8b4-1abb-416e-ac34-a39fef65a348",
   "metadata": {},
   "outputs": [],
   "source": [
    "#importing relevant packages\n",
    "from vampyr import vampyr1d as vp1\n",
    "import matplotlib.pyplot as plt\n",
    "import numpy as np\n",
    "\n",
    "#defining MRA and projectors\n",
    "x_min = \n",
    "x_max = \n",
    "order = \n",
    "precision = \n",
    "uniform_scale = \n",
    "mra = vp1.MultiResolutionAnalysis(box=[x_min, x_max], order=order)\n",
    "P_eps = vp1.ScalingProjector(mra, prec = precision)\n",
    "P_fix = vp1.ScalingProjector(mra, scale = uniform_scale)\n",
    "\n",
    "def f(x):\n",
    "    print(\"FIXME\")"
   ]
  },
  {
   "cell_type": "markdown",
   "id": "dbd0bd66-d1b3-43d5-ae88-ddcb47d96afe",
   "metadata": {},
   "source": [
    "## Part 2: projection of the tree structures\n",
    "\n",
    "Project the function using the two projectors created above and\n",
    "inspect the tree structures with `print`. Which one has more nodes? Which one goes deeper down in refinement (larger scale)? Do the norms agree with each other?\n",
    "\n",
    "Extra: if you use the `f_fix.crop(prec)` function before printing the tree structures, what happens to it?"
   ]
  },
  {
   "cell_type": "code",
   "execution_count": null,
   "id": "ccf647c5-dbb6-42d3-8862-e1ac5aa0e9a3",
   "metadata": {},
   "outputs": [],
   "source": [
    "f_fix = P_fix(f)\n",
    "f_eps = P_eps(f)\n",
    "\n",
    "\n",
    "print(f_eps)\n",
    "print(f_fix)\n"
   ]
  },
  {
   "cell_type": "markdown",
   "id": "8e5f4171-0440-4020-83b7-0d69c7790d4d",
   "metadata": {},
   "source": [
    "## Part 3: Plotting and precision check\n",
    "\n",
    "You can now plot the analytical function, the two projected ones and the error obtained with them. \n",
    "\n",
    "- How precise are the representation? \n",
    "- Which one is the most precise? \n",
    "- Is the precision requested in the adaptive projection achieved? \n",
    "- Can you adjust the projectors above to increase the precision? "
   ]
  },
  {
   "cell_type": "code",
   "execution_count": null,
   "id": "cd83c63c-ff82-4569-99e5-a644ca74e1bf",
   "metadata": {},
   "outputs": [],
   "source": [
    "x_vec = np.linspace(-5, 5, 1000)\n",
    "f_plt     = np.array([f([x]) for x in x_vec ])\n",
    "f_fix_plt = \n",
    "f_eps_plt = \n",
    "diff_fix = \n",
    "diff_eps = \n",
    "plt.plot(x_vec, .... , \"tab:red\") # one function to plot\n",
    "plt.plot(x_vec, .... , \"tab:blue\") # another function to plot\n",
    "plt.show()"
   ]
  }
 ],
 "metadata": {
  "kernelspec": {
   "display_name": "Python 3 (ipykernel)",
   "language": "python",
   "name": "python3"
  },
  "language_info": {
   "codemirror_mode": {
    "name": "ipython",
    "version": 3
   },
   "file_extension": ".py",
   "mimetype": "text/x-python",
   "name": "python",
   "nbconvert_exporter": "python",
   "pygments_lexer": "ipython3",
   "version": "3.9.13"
  }
 },
 "nbformat": 4,
 "nbformat_minor": 5
}
