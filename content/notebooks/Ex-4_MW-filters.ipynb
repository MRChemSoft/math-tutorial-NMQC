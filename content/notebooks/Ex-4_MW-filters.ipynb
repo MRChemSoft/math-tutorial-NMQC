{
 "cells": [
  {
   "cell_type": "code",
   "execution_count": 3,
   "id": "65abe220-3d2a-4853-bcbe-8580b7b5d32a",
   "metadata": {},
   "outputs": [
    {
     "name": "stdout",
     "output_type": "stream",
     "text": [
      "[[ 7.07106781e-01  0.00000000e+00  4.88535468e-77  0.00000000e+00]\n",
      " [-6.12372436e-01  3.53553391e-01 -4.48460293e-77  2.23275976e-77]\n",
      " [ 9.16004002e-78 -6.84653197e-01  1.76776695e-01 -3.96935068e-77]\n",
      " [ 2.33853587e-01  4.05046294e-01 -5.22912517e-01  8.83883476e-02]]\n",
      "[[-7.07106781e-01  0.00000000e+00 -4.88535468e-77  0.00000000e+00]\n",
      " [-6.12372436e-01 -3.53553391e-01 -4.48460293e-77 -2.23275976e-77]\n",
      " [-9.16004002e-78 -6.84653197e-01 -1.76776695e-01 -3.96935068e-77]\n",
      " [ 2.33853587e-01 -4.05046294e-01 -5.22912517e-01 -8.83883476e-02]]\n",
      "[[ 6.54942862e-76 -1.53392998e-01 -5.94088526e-01  3.51467512e-01]\n",
      " [-1.54303350e-01 -2.67261242e-01 -1.72516390e-01  6.12372436e-01]\n",
      " [-1.98162199e-75 -8.78668779e-02 -3.40306955e-01 -6.13571991e-01]\n",
      " [ 2.15645487e-01  3.73508940e-01  4.43622131e-01  3.42326598e-01]]\n",
      "[[-6.54942862e-76 -1.53392998e-01  5.94088526e-01  3.51467512e-01]\n",
      " [-1.54303350e-01  2.67261242e-01 -1.72516390e-01 -6.12372436e-01]\n",
      " [ 1.98162199e-75 -8.78668779e-02  3.40306955e-01 -6.13571991e-01]\n",
      " [ 2.15645487e-01 -3.73508940e-01  4.43622131e-01 -3.42326598e-01]]\n"
     ]
    }
   ],
   "source": [
    "import sys, struct\n",
    "import numpy as np\n",
    "\n",
    "# Gets one of the four filter matrices\n",
    "# Basis: L (legendre) or I (interpolating)\n",
    "# Type: H or G\n",
    "# Flag: 0 or 1\n",
    "# n: from 1 to 11\n",
    "def getfilter(basis = \"L\", ftype = \"H\", flag = 0, n = 4):\n",
    "    order = n - 1\n",
    "    name = \"mwfilters/\" + basis + \"_\" + ftype + \"0_\" + str(order)\n",
    "    filterFile = open(name, 'rb')\n",
    "    filterData = filterFile.read()\n",
    "    filterList = []\n",
    "    for i in range((n)*(n)):\n",
    "        rstart = i * 8\n",
    "        rend = (i + 1) * 8\n",
    "        filterList.append(struct.unpack_from(\"d\",filterData[rstart:rend]))\n",
    "    filterArray = np.array(filterList)\n",
    "    filterMatrix = np.ndarray((n, n),buffer=filterArray)\n",
    "    if (flag == 1):\n",
    "        if (ftype == \"G\" and n%2 != 0 ):\n",
    "            sign_np = -1\n",
    "        else:\n",
    "            sign_np = 1\n",
    "        for i in range(n):\n",
    "            for j in range(n):\n",
    "                sign_ij = 1\n",
    "                if (((i+j)%2) == 0):\n",
    "                    sign_ij = -1\n",
    "                sign = sign_ij * sign_np\n",
    "                filterMatrix[i,j] *= sign\n",
    "    return filterMatrix\n",
    "\n",
    "#filters for a third order (k+1=4) Legendre basis\n",
    "\n",
    "basis = \"L\" # alternative \"I\" for interpolating\n",
    "n = 4 # n = k+1  (avaliable up to k=10)\n",
    "H0 = getfilter(basis, \"H\", 0, n)\n",
    "H1 = getfilter(basis, \"H\", 1, n)\n",
    "G0 = getfilter(basis, \"G\", 0, n)\n",
    "G1 = getfilter(basis, \"G\", 1, n)\n",
    "print(H0)\n",
    "print(H1)\n",
    "print(G0)\n",
    "print(G1)"
   ]
  },
  {
   "cell_type": "code",
   "execution_count": null,
   "id": "96d5de4c-e321-4f7b-bf80-1850d9dc5ec8",
   "metadata": {},
   "outputs": [],
   "source": []
  }
 ],
 "metadata": {
  "kernelspec": {
   "display_name": "Python 3 (ipykernel)",
   "language": "python",
   "name": "python3"
  },
  "language_info": {
   "codemirror_mode": {
    "name": "ipython",
    "version": 3
   },
   "file_extension": ".py",
   "mimetype": "text/x-python",
   "name": "python",
   "nbconvert_exporter": "python",
   "pygments_lexer": "ipython3",
   "version": "3.9.13"
  }
 },
 "nbformat": 4,
 "nbformat_minor": 5
}
