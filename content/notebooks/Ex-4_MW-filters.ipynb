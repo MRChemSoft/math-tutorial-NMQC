{
 "cells": [
  {
   "cell_type": "markdown",
   "id": "719280a5-c13d-4326-bcfc-93c9a8fb9e80",
   "metadata": {},
   "source": [
    "# Dilation, translation, two-scale relationships and filters\n",
    "\n",
    "The scaling and wavelet functions at successive scales are connected in two ways. One way is the translation and dilation, and the second one is the two-scale relationships. This is one of the key point of wavelet and multiwavelets.\n",
    "\n",
    "In the previous exercise you have seen how the Haar scaling and wavelet functions at scale $n > 0$ can be obtained by translating and dilating the mother scaling and wavelet functions at scale $n=0$.\n",
    "\n",
    "In general, for a multiwavelet basis you can always write the following:\n",
    "\n",
    "$$\n",
    "\\phi^n_{jl}(x) = 2^{n/2} \\phi^0_{j}(2^n x - l) \\qquad \\psi^n_{jl}(x) = 2^{n/2} \\psi^0_{j}(2^n x - l)\n",
    "$$\n",
    "\n",
    "Alternatively, for two successive scales:\n",
    "$$\n",
    "\\phi^{n+1}_{jl}(x) = 2^{1/2} \\phi^n_{j}(2 x - l) \\qquad \\psi^{n+1}_{jl}(x) = 2^{1/2} \\psi^n_{j}(2 x - l)\n",
    "$$\n",
    "\n",
    "\n",
    "\n",
    "The two-scale relationship instead connects the scaling functions at scale $n$ with the scaling and wavelet functions at scale $n-1$. In terms of linear algebra, this is a simple unitary transformation of the basis. borrowing from the original application of wavelets to signal processing, this unitary transformation is composed by four blocks called respectively $H_i$ and $G_i$ ($i=0,1$) where $H_i$ are the high-pass filters and $G_i$ are the low-pass filters. The whole transformation reads:\n",
    "\n",
    "$$\n",
    "\\pmatrix{\\boldsymbol{\\phi}^n_{2l}(x) \\\\ \\boldsymbol{\\phi}^n_{2l+1}(x)} = \n",
    "\\pmatrix{H_0 & G_0 \\\\ H_1 & G_1}\n",
    "\\pmatrix{\\boldsymbol{\\phi}^{n-1}_{l}(x) \\\\ \\boldsymbol{\\psi}^{n-1}_{l}(x)}\n",
    "$$\n",
    "where we have used **bold** symbols to the column vector of $k+1$ scaling or wavelet functions in a given node.\n",
    "\n",
    "In the code cell below you will find a function which will return a selected filter ($H_i$ or $G_i$) for a given basis (Legendre/Interpolating), a given order (limited to $k \\le 10$)."
   ]
  },
  {
   "cell_type": "code",
   "execution_count": 3,
   "id": "65abe220-3d2a-4853-bcbe-8580b7b5d32a",
   "metadata": {},
   "outputs": [
    {
     "name": "stdout",
     "output_type": "stream",
     "text": [
      "[[ 7.07106781e-01  0.00000000e+00  4.88535468e-77  0.00000000e+00]\n",
      " [-6.12372436e-01  3.53553391e-01 -4.48460293e-77  2.23275976e-77]\n",
      " [ 9.16004002e-78 -6.84653197e-01  1.76776695e-01 -3.96935068e-77]\n",
      " [ 2.33853587e-01  4.05046294e-01 -5.22912517e-01  8.83883476e-02]]\n",
      "[[-7.07106781e-01  0.00000000e+00 -4.88535468e-77  0.00000000e+00]\n",
      " [-6.12372436e-01 -3.53553391e-01 -4.48460293e-77 -2.23275976e-77]\n",
      " [-9.16004002e-78 -6.84653197e-01 -1.76776695e-01 -3.96935068e-77]\n",
      " [ 2.33853587e-01 -4.05046294e-01 -5.22912517e-01 -8.83883476e-02]]\n",
      "[[ 6.54942862e-76 -1.53392998e-01 -5.94088526e-01  3.51467512e-01]\n",
      " [-1.54303350e-01 -2.67261242e-01 -1.72516390e-01  6.12372436e-01]\n",
      " [-1.98162199e-75 -8.78668779e-02 -3.40306955e-01 -6.13571991e-01]\n",
      " [ 2.15645487e-01  3.73508940e-01  4.43622131e-01  3.42326598e-01]]\n",
      "[[-6.54942862e-76 -1.53392998e-01  5.94088526e-01  3.51467512e-01]\n",
      " [-1.54303350e-01  2.67261242e-01 -1.72516390e-01 -6.12372436e-01]\n",
      " [ 1.98162199e-75 -8.78668779e-02  3.40306955e-01 -6.13571991e-01]\n",
      " [ 2.15645487e-01 -3.73508940e-01  4.43622131e-01 -3.42326598e-01]]\n"
     ]
    }
   ],
   "source": [
    "import sys, struct\n",
    "import numpy as np\n",
    "\n",
    "# Gets one of the four filter matrices\n",
    "# Basis: L (legendre) or I (interpolating)\n",
    "# Type: H or G\n",
    "# Flag: 0 or 1\n",
    "# n: from 1 to 11\n",
    "def getfilter(basis = \"L\", ftype = \"H\", flag = 0, n = 4):\n",
    "    order = n - 1\n",
    "    name = \"mwfilters/\" + basis + \"_\" + ftype + \"0_\" + str(order)\n",
    "    filterFile = open(name, 'rb')\n",
    "    filterData = filterFile.read()\n",
    "    filterList = []\n",
    "    for i in range((n)*(n)):\n",
    "        rstart = i * 8\n",
    "        rend = (i + 1) * 8\n",
    "        filterList.append(struct.unpack_from(\"d\",filterData[rstart:rend]))\n",
    "    filterArray = np.array(filterList)\n",
    "    filterMatrix = np.ndarray((n, n),buffer=filterArray)\n",
    "    if (flag == 1):\n",
    "        if (ftype == \"G\" and n%2 != 0 ):\n",
    "            sign_np = -1\n",
    "        else:\n",
    "            sign_np = 1\n",
    "        for i in range(n):\n",
    "            for j in range(n):\n",
    "                sign_ij = 1\n",
    "                if (((i+j)%2) == 0):\n",
    "                    sign_ij = -1\n",
    "                sign = sign_ij * sign_np\n",
    "                filterMatrix[i,j] *= sign\n",
    "    return filterMatrix\n",
    "\n",
    "#filters for a third order (k+1=4) Legendre basis\n",
    "\n",
    "basis = \"L\" # alternative \"I\" for interpolating\n",
    "n = 4 # n = k+1  (avaliable up to k=10)\n",
    "H0 = getfilter(basis, \"H\", 0, n)\n",
    "H1 = getfilter(basis, \"H\", 1, n)\n",
    "G0 = getfilter(basis, \"G\", 0, n)\n",
    "G1 = getfilter(basis, \"G\", 1, n)\n",
    "print(H0)\n",
    "print(H1)\n",
    "print(G0)\n",
    "print(G1)"
   ]
  },
  {
   "cell_type": "markdown",
   "id": "4f19eba5-18bc-4f76-9795-7f5bafcc2ebf",
   "metadata": {},
   "source": [
    "## Exercises\n",
    "\n",
    "- Show (numerically) that the four filter matrices constitute a **unitary transformation**.\n",
    "- Use the dilation and translation relationships to obtain, for a given scaling/wavelet function, the corresponding function at the next **finer scale** (larger $n$).\n",
    "- Use the two-scale relationship to verify that the scaling function obtained by translation/dilation can also be obtained by linear transformation of the scaling&wavelet functions at the next **coraser scale** (smaller $n$)."
   ]
  },
  {
   "cell_type": "code",
   "execution_count": 1,
   "id": "f7c1dceb-6afb-47fb-bd07-00bfe79aa1cb",
   "metadata": {},
   "outputs": [],
   "source": [
    "from vampyr import LegendreBasis, InterpolatingBasis\n",
    "import matplotlib.pyplot as plt\n",
    "import numpy as np\n",
    "\n",
    "# Create Legendre basis of order 4 and Interpolating basis of order 3\n",
    "legendre_4 = LegendreBasis(order=4)\n",
    "interpol_3 = InterpolatingBasis(order=3)"
   ]
  },
  {
   "cell_type": "code",
   "execution_count": null,
   "id": "34125515-e1a4-4d09-888c-62c9a55c9e49",
   "metadata": {},
   "outputs": [],
   "source": []
  }
 ],
 "metadata": {
  "kernelspec": {
   "display_name": "Python 3 (ipykernel)",
   "language": "python",
   "name": "python3"
  },
  "language_info": {
   "codemirror_mode": {
    "name": "ipython",
    "version": 3
   },
   "file_extension": ".py",
   "mimetype": "text/x-python",
   "name": "python",
   "nbconvert_exporter": "python",
   "pygments_lexer": "ipython3",
   "version": "3.9.13"
  }
 },
 "nbformat": 4,
 "nbformat_minor": 5
}
